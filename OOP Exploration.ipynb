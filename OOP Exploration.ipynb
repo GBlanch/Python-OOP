{
 "cells": [
  {
   "cell_type": "markdown",
   "id": "2a38ada4",
   "metadata": {},
   "source": [
    "### Instance, Class and Static Methods"
   ]
  },
  {
   "cell_type": "code",
   "execution_count": 145,
   "id": "902e33eb",
   "metadata": {},
   "outputs": [],
   "source": [
    "class class_example:\n",
    "    def instance_m(self):\n",
    "        return 'instance method called', self\n",
    "    \n",
    "    def class_m(cls):\n",
    "        return 'class method called', cls\n",
    "\n",
    "    def static_m():\n",
    "        return 'static method called'"
   ]
  },
  {
   "cell_type": "code",
   "execution_count": 168,
   "id": "15605d1c",
   "metadata": {},
   "outputs": [
    {
     "name": "stdout",
     "output_type": "stream",
     "text": [
      "1st method is: ('instance method called', <__main__.class_example object at 0x0000015BB060E610>),\n",
      "\n",
      "2nd one is:('class method called', <__main__.class_example object at 0x0000015BB060E610>)\n",
      "\n",
      "and the last one is:<bound method class_example.static_m of <__main__.class_example object at 0x0000015BB060E610>>\n"
     ]
    }
   ],
   "source": [
    "print(\"1st method is: {},\\n\\n2nd one is:{}\\n\\nand the last one is:{}\".format(obj.instance_m(),\n",
    "obj.class_m(),obj.static_m))"
   ]
  },
  {
   "cell_type": "markdown",
   "id": "5505a87e",
   "metadata": {},
   "source": [
    "Solely showing the type of the method:"
   ]
  },
  {
   "cell_type": "code",
   "execution_count": 55,
   "id": "ac61a37c",
   "metadata": {},
   "outputs": [
    {
     "data": {
      "text/plain": [
       "__main__.Sample"
      ]
     },
     "execution_count": 55,
     "metadata": {},
     "output_type": "execute_result"
    }
   ],
   "source": [
    "class Sample():\n",
    "    pass\n",
    "\n",
    "x = Sample()\n",
    "type(x)\n"
   ]
  },
  {
   "cell_type": "markdown",
   "id": "426004c1",
   "metadata": {},
   "source": [
    "Short self-intro class, with merely 2 arguments:"
   ]
  },
  {
   "cell_type": "code",
   "execution_count": 120,
   "id": "dd16aac3",
   "metadata": {},
   "outputs": [],
   "source": [
    "class intro():\n",
    "    def __init__(self, first_name, last_name):\n",
    "        self.first_name = first_name\n",
    "        self.last_name = last_name\n",
    "        \n",
    "    def hello(self):\n",
    "        print(\"Salut\")\n",
    "        \n",
    "    def report(self):\n",
    "        print(\"Je m'appelle {} {}\".format(self.first_name, self.last_name))"
   ]
  },
  {
   "cell_type": "code",
   "execution_count": 128,
   "id": "4767382e",
   "metadata": {},
   "outputs": [
    {
     "name": "stdout",
     "output_type": "stream",
     "text": [
      "Hello!\n",
      "My name is Gerry Blanch\n"
     ]
    }
   ],
   "source": [
    "i = intro('Gerry', 'Blanch')\n",
    "i.hello()\n",
    "i.report()"
   ]
  },
  {
   "cell_type": "code",
   "execution_count": 88,
   "id": "767af07a",
   "metadata": {},
   "outputs": [],
   "source": [
    "class Agent():\n",
    "    country = 'SPA'\n",
    "    def __init__(self, name):\n",
    "        self.name = name\n",
    "    \n",
    "    def sayHi(self):\n",
    "        print('Hi Agent {} and from {}'.format(self.name, country))\n",
    "\n",
    "obj = Agent('Gerry')\n"
   ]
  },
  {
   "cell_type": "code",
   "execution_count": 135,
   "id": "cfcec953",
   "metadata": {},
   "outputs": [
    {
     "data": {
      "text/plain": [
       "('instance method called', <__main__.class_example at 0x15bb08d9f10>)"
      ]
     },
     "execution_count": 135,
     "metadata": {},
     "output_type": "execute_result"
    }
   ],
   "source": [
    "obj = class_example()\n",
    "obj.method()"
   ]
  },
  {
   "cell_type": "markdown",
   "id": "e7a2512f",
   "metadata": {},
   "source": [
    "### Methods\n"
   ]
  },
  {
   "cell_type": "code",
   "execution_count": 52,
   "id": "35960a50",
   "metadata": {},
   "outputs": [],
   "source": [
    "import math\n",
    "\n",
    "pi = math.pi"
   ]
  },
  {
   "cell_type": "code",
   "execution_count": 93,
   "id": "84fdd2a9",
   "metadata": {},
   "outputs": [],
   "source": [
    "class circle_properties():\n",
    "\n",
    "    def __init__(self, radius):\n",
    "        self.rad = radius\n",
    "        \n",
    "    def permieter(self):\n",
    "        return 2 * pi * self.rad\n",
    "    \n",
    "    def area(self):\n",
    "        return pi * self.rad ** 2 \n",
    "    "
   ]
  },
  {
   "cell_type": "code",
   "execution_count": 94,
   "id": "98ec3d1a",
   "metadata": {},
   "outputs": [
    {
     "data": {
      "text/plain": [
       "3"
      ]
     },
     "execution_count": 94,
     "metadata": {},
     "output_type": "execute_result"
    }
   ],
   "source": [
    "circle_1 = circle_properties(3)\n",
    "circle_1.rad"
   ]
  },
  {
   "cell_type": "code",
   "execution_count": 95,
   "id": "04d2d58a",
   "metadata": {},
   "outputs": [
    {
     "data": {
      "text/plain": [
       "18.84955592153876"
      ]
     },
     "execution_count": 95,
     "metadata": {},
     "output_type": "execute_result"
    }
   ],
   "source": [
    "circle_1.permieter()\n"
   ]
  },
  {
   "cell_type": "code",
   "execution_count": 96,
   "id": "f49bf75e",
   "metadata": {},
   "outputs": [
    {
     "data": {
      "text/plain": [
       "28.274333882308138"
      ]
     },
     "execution_count": 96,
     "metadata": {},
     "output_type": "execute_result"
    }
   ],
   "source": [
    "circle_1.area()"
   ]
  },
  {
   "cell_type": "code",
   "execution_count": null,
   "id": "1689b6dc",
   "metadata": {},
   "outputs": [],
   "source": []
  },
  {
   "cell_type": "code",
   "execution_count": 115,
   "id": "e7cca756",
   "metadata": {},
   "outputs": [],
   "source": [
    "class rectangle_properties(): \n",
    "    def __init__(self,le = 0,wi = 0): \n",
    "        self.lenght = le\n",
    "        self.width = wi \n",
    "    def area (self): \n",
    "        \"\"\"Find the area of rectangle\"\"\" \n",
    "        return (self.lenght * self.width) "
   ]
  },
  {
   "cell_type": "code",
   "execution_count": 116,
   "id": "caf73f16",
   "metadata": {},
   "outputs": [
    {
     "name": "stdout",
     "output_type": "stream",
     "text": [
      "The area of the rectangle is 6.5 sqft.\n"
     ]
    }
   ],
   "source": [
    "rect_1 = rectangle_properties(1.3,5) \n",
    "print (\"The area of the rectangle is\", rect_1.area(),\"sqft.\")"
   ]
  },
  {
   "cell_type": "markdown",
   "id": "d048ad9c",
   "metadata": {},
   "source": [
    "### Special Methods"
   ]
  },
  {
   "cell_type": "code",
   "execution_count": null,
   "id": "6eb4a983",
   "metadata": {},
   "outputs": [],
   "source": []
  },
  {
   "cell_type": "code",
   "execution_count": 213,
   "id": "2408d82d",
   "metadata": {},
   "outputs": [],
   "source": [
    "class Book():\n",
    "    def __init__(self, title, author, pages):\n",
    "        self.title = title\n",
    "        self.author = author\n",
    "        self.pages = pages\n",
    "        \n",
    "    def __len__(self):\n",
    "        return self.pages\n",
    "    \n",
    "    def __str__(self):\n",
    "        return f'''\n",
    "The title is {self.title}, the author is {self.author} and it has {self.pages} pages'''\n"
   ]
  },
  {
   "cell_type": "code",
   "execution_count": 215,
   "id": "876d9da6",
   "metadata": {},
   "outputs": [
    {
     "name": "stdout",
     "output_type": "stream",
     "text": [
      "\n",
      "The title is \"The Chimp Paradox\", the author is Steve Peters and it has 372 pages\n"
     ]
    }
   ],
   "source": [
    "b = Book('\"The Chimp Paradox\"', 'Steve Peters', 372)\n",
    "print(b)"
   ]
  }
 ],
 "metadata": {
  "kernelspec": {
   "display_name": "Python 3 (ipykernel)",
   "language": "python",
   "name": "python3"
  },
  "language_info": {
   "codemirror_mode": {
    "name": "ipython",
    "version": 3
   },
   "file_extension": ".py",
   "mimetype": "text/x-python",
   "name": "python",
   "nbconvert_exporter": "python",
   "pygments_lexer": "ipython3",
   "version": "3.11.4"
  }
 },
 "nbformat": 4,
 "nbformat_minor": 5
}
